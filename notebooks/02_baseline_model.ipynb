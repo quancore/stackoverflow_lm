{
 "cells": [
  {
   "cell_type": "code",
   "execution_count": 35,
   "id": "769d21fb-3bf8-47eb-9e57-0087973df323",
   "metadata": {},
   "outputs": [
    {
     "name": "stdout",
     "output_type": "stream",
     "text": [
      "INFO: Pandarallel will run on 16 workers.\n",
      "INFO: Pandarallel will use Memory file system to transfer data between the main process and workers.\n"
     ]
    }
   ],
   "source": [
    "import os\n",
    "import sys\n",
    "from pathlib import Path\n",
    "from tqdm import tqdm\n",
    "\n",
    "import pandas as pd\n",
    "import numpy as np\n",
    "from scipy.sparse import hstack\n",
    "\n",
    "import string\n",
    "import spacy\n",
    "import contractions\n",
    "\n",
    "from sklearn.preprocessing import MultiLabelBinarizer\n",
    "from sklearn.feature_extraction.text import TfidfVectorizer\n",
    "from sklearn.model_selection import train_test_split\n",
    "from sklearn.multiclass import OneVsRestClassifier\n",
    "from sklearn.neighbors import KNeighborsClassifier\n",
    "from sklearn.ensemble import RandomForestClassifier\n",
    "from sklearn.linear_model import LogisticRegression, SGDClassifier\n",
    "from sklearn.metrics import hamming_loss, f1_score, jaccard_score\n",
    "\n",
    "from lightgbm import LGBMClassifier\n",
    "\n",
    "from pandarallel import pandarallel\n",
    "\n",
    "pandarallel.initialize(progress_bar=True, nb_workers=16)\n",
    "\n",
    "module_path = os.path.abspath(os.path.join('..'))\n",
    "if module_path not in sys.path:\n",
    "    sys.path.append(module_path)\n",
    "\n",
    "from utils import utils"
   ]
  },
  {
   "cell_type": "code",
   "execution_count": 2,
   "id": "312de8e6-bd40-4852-a064-ffbeea4f4912",
   "metadata": {},
   "outputs": [],
   "source": [
    "# config variables and constants\n",
    "dataset_path = Path(\"../datasets\")\n",
    "dataset_path.mkdir(exist_ok=True)"
   ]
  },
  {
   "cell_type": "code",
   "execution_count": 42,
   "id": "2c3dd211-ef35-4f39-a626-22e0b9e8ae51",
   "metadata": {},
   "outputs": [],
   "source": [
    "def clean_text(text):\n",
    "    \"\"\" CLean question body and title by lemmanizing, removing stopword and puctuations \"\"\"\n",
    "    text = nlp(contractions.fix(text))\n",
    "    new_tokens = []\n",
    "    for tok in text:\n",
    "        lemmanized_tok = tok.lemma_.lower().strip()\n",
    "        if lemmanized_tok in  binarizer.classes_:\n",
    "            new_tokens.append(lemmanized_tok)\n",
    "        elif tok.lemma_ != \"-PRON-\" and tok.is_stop != True and tok.is_punct != True and tok.is_digit != True:\n",
    "            new_tokens.append(lemmanized_tok)\n",
    "            \n",
    "    return ' '.join(new_tokens)\n",
    "\n",
    "def transform_tf_idf(x):\n",
    "    \"\"\" Tranasform a document to tf-idf representation \"\"\"\n",
    "    vectorizer = TfidfVectorizer(analyzer = 'word',\n",
    "                                 encoding = 'utf-8',\n",
    "                                 ngram_range = (1, 2),\n",
    "                                 max_features=1000)\n",
    "    return vectorizer.fit_transform(x)\n",
    "\n",
    "def output_score(clf, y_pred, y_test):\n",
    "    \"\"\" Return evaluation metrics as dataframe \"\"\"\n",
    "    performance = { \n",
    "                   \"Jaccard\":jaccard_score(y_test, y_pred, average=\"weighted\"), \n",
    "                   \"Humming\": hamming_loss(y_test, y_pred)*100,\n",
    "                   \"F1\": f1_score(y_test, y_pred, average=\"weighted\"),\n",
    "                  }\n",
    "    return pd.DataFrame(performance, index=[clf.__class__.__name__])\n",
    "    \n",
    "def train_test_model(clf, X_train, X_test, y_train, y_test):\n",
    "    \"\"\" Train and test a classifier \"\"\"\n",
    "    clf.fit(X_train, y_train)\n",
    "    y_pred = clf.predict(X_test)\n",
    "    return output_score(clf, y_pred, y_test)"
   ]
  },
  {
   "cell_type": "code",
   "execution_count": 4,
   "id": "b1e2d662-de1f-4f57-9ada-7a7a83cfd24c",
   "metadata": {},
   "outputs": [],
   "source": [
    "df_full = pd.read_parquet(dataset_path/\"cleaned_df.parquet\")"
   ]
  },
  {
   "cell_type": "code",
   "execution_count": 5,
   "id": "0e0dfb36-a0a9-4230-99f5-d13a7733d5a8",
   "metadata": {},
   "outputs": [
    {
     "data": {
      "text/html": [
       "<div>\n",
       "<style scoped>\n",
       "    .dataframe tbody tr th:only-of-type {\n",
       "        vertical-align: middle;\n",
       "    }\n",
       "\n",
       "    .dataframe tbody tr th {\n",
       "        vertical-align: top;\n",
       "    }\n",
       "\n",
       "    .dataframe thead th {\n",
       "        text-align: right;\n",
       "    }\n",
       "</style>\n",
       "<table border=\"1\" class=\"dataframe\">\n",
       "  <thead>\n",
       "    <tr style=\"text-align: right;\">\n",
       "      <th></th>\n",
       "      <th>Tag</th>\n",
       "      <th>BodyCleaned</th>\n",
       "      <th>TitleCleaned</th>\n",
       "    </tr>\n",
       "  </thead>\n",
       "  <tbody>\n",
       "    <tr>\n",
       "      <th>0</th>\n",
       "      <td>sql,asp.net</td>\n",
       "      <td>Has anyone got experience creating SQL-based A...</td>\n",
       "      <td>ASP.NET Site Maps</td>\n",
       "    </tr>\n",
       "    <tr>\n",
       "      <th>1</th>\n",
       "      <td>algorithm</td>\n",
       "      <td>This is something I've pseudo-solved many time...</td>\n",
       "      <td>Function for creating color wheels</td>\n",
       "    </tr>\n",
       "    <tr>\n",
       "      <th>2</th>\n",
       "      <td>c#,.net</td>\n",
       "      <td>I have a little game written in C#. It uses a ...</td>\n",
       "      <td>Adding scripting functionality to .NET applica...</td>\n",
       "    </tr>\n",
       "    <tr>\n",
       "      <th>3</th>\n",
       "      <td>c++</td>\n",
       "      <td>I am working on a collection of classes used f...</td>\n",
       "      <td>Should I use nested classes in this case?</td>\n",
       "    </tr>\n",
       "    <tr>\n",
       "      <th>4</th>\n",
       "      <td>.net,web-services</td>\n",
       "      <td>I've been writing a few web services for a .ne...</td>\n",
       "      <td>Homegrown consumption of web services</td>\n",
       "    </tr>\n",
       "    <tr>\n",
       "      <th>...</th>\n",
       "      <td>...</td>\n",
       "      <td>...</td>\n",
       "      <td>...</td>\n",
       "    </tr>\n",
       "    <tr>\n",
       "      <th>965707</th>\n",
       "      <td>javascript</td>\n",
       "      <td>I'm trying to detect the \"flash out of date\" e...</td>\n",
       "      <td>YouTube iFrame API: no ready call, no error call</td>\n",
       "    </tr>\n",
       "    <tr>\n",
       "      <th>965708</th>\n",
       "      <td>python,bash</td>\n",
       "      <td>I need to extend a shell script (bash). As I a...</td>\n",
       "      <td>How to execute multiline python code from a ba...</td>\n",
       "    </tr>\n",
       "    <tr>\n",
       "      <th>965709</th>\n",
       "      <td>php,.htaccess</td>\n",
       "      <td>I am building a custom MVC project and I have ...</td>\n",
       "      <td>URL routing in PHP (MVC)</td>\n",
       "    </tr>\n",
       "    <tr>\n",
       "      <th>965710</th>\n",
       "      <td>android</td>\n",
       "      <td>Under minifyEnabled I changed from false to tr...</td>\n",
       "      <td>Obfuscating code in android studio</td>\n",
       "    </tr>\n",
       "    <tr>\n",
       "      <th>965711</th>\n",
       "      <td>javascript</td>\n",
       "      <td>I have input which I use to filter my array of...</td>\n",
       "      <td>How to fire function after v-model change?</td>\n",
       "    </tr>\n",
       "  </tbody>\n",
       "</table>\n",
       "<p>965712 rows × 3 columns</p>\n",
       "</div>"
      ],
      "text/plain": [
       "                      Tag                                        BodyCleaned  \\\n",
       "0             sql,asp.net  Has anyone got experience creating SQL-based A...   \n",
       "1               algorithm  This is something I've pseudo-solved many time...   \n",
       "2                 c#,.net  I have a little game written in C#. It uses a ...   \n",
       "3                     c++  I am working on a collection of classes used f...   \n",
       "4       .net,web-services  I've been writing a few web services for a .ne...   \n",
       "...                   ...                                                ...   \n",
       "965707         javascript  I'm trying to detect the \"flash out of date\" e...   \n",
       "965708        python,bash  I need to extend a shell script (bash). As I a...   \n",
       "965709      php,.htaccess  I am building a custom MVC project and I have ...   \n",
       "965710            android  Under minifyEnabled I changed from false to tr...   \n",
       "965711         javascript  I have input which I use to filter my array of...   \n",
       "\n",
       "                                             TitleCleaned  \n",
       "0                                       ASP.NET Site Maps  \n",
       "1                      Function for creating color wheels  \n",
       "2       Adding scripting functionality to .NET applica...  \n",
       "3               Should I use nested classes in this case?  \n",
       "4                   Homegrown consumption of web services  \n",
       "...                                                   ...  \n",
       "965707   YouTube iFrame API: no ready call, no error call  \n",
       "965708  How to execute multiline python code from a ba...  \n",
       "965709                           URL routing in PHP (MVC)  \n",
       "965710                 Obfuscating code in android studio  \n",
       "965711         How to fire function after v-model change?  \n",
       "\n",
       "[965712 rows x 3 columns]"
      ]
     },
     "execution_count": 5,
     "metadata": {},
     "output_type": "execute_result"
    }
   ],
   "source": [
    "df_full"
   ]
  },
  {
   "cell_type": "markdown",
   "id": "ba99a6c1-bd7f-46b3-b9f1-8c04c7314e69",
   "metadata": {},
   "source": [
    "## Text/target pre-processing"
   ]
  },
  {
   "cell_type": "markdown",
   "id": "9c1d7b7b-2f54-497a-b839-92f4587467ea",
   "metadata": {},
   "source": [
    "First, we need to encode our target variable for classification task. We can use binary label generator which creates a binary representation for each label."
   ]
  },
  {
   "cell_type": "code",
   "execution_count": 6,
   "id": "de89f685-dc18-4294-acc3-f6660c674a41",
   "metadata": {},
   "outputs": [
    {
     "data": {
      "text/html": [
       "<div>\n",
       "<style scoped>\n",
       "    .dataframe tbody tr th:only-of-type {\n",
       "        vertical-align: middle;\n",
       "    }\n",
       "\n",
       "    .dataframe tbody tr th {\n",
       "        vertical-align: top;\n",
       "    }\n",
       "\n",
       "    .dataframe thead th {\n",
       "        text-align: right;\n",
       "    }\n",
       "</style>\n",
       "<table border=\"1\" class=\"dataframe\">\n",
       "  <thead>\n",
       "    <tr style=\"text-align: right;\">\n",
       "      <th></th>\n",
       "      <th>Tag</th>\n",
       "      <th>BodyCleaned</th>\n",
       "      <th>TitleCleaned</th>\n",
       "      <th>labels</th>\n",
       "    </tr>\n",
       "  </thead>\n",
       "  <tbody>\n",
       "    <tr>\n",
       "      <th>0</th>\n",
       "      <td>sql,asp.net</td>\n",
       "      <td>Has anyone got experience creating SQL-based A...</td>\n",
       "      <td>ASP.NET Site Maps</td>\n",
       "      <td>[0, 0, 0, 0, 0, 0, 0, 0, 1, 0, 0, 0, 0, 0, 0, ...</td>\n",
       "    </tr>\n",
       "    <tr>\n",
       "      <th>1</th>\n",
       "      <td>algorithm</td>\n",
       "      <td>This is something I've pseudo-solved many time...</td>\n",
       "      <td>Function for creating color wheels</td>\n",
       "      <td>[0, 0, 0, 1, 0, 0, 0, 0, 0, 0, 0, 0, 0, 0, 0, ...</td>\n",
       "    </tr>\n",
       "    <tr>\n",
       "      <th>2</th>\n",
       "      <td>c#,.net</td>\n",
       "      <td>I have a little game written in C#. It uses a ...</td>\n",
       "      <td>Adding scripting functionality to .NET applica...</td>\n",
       "      <td>[0, 1, 0, 0, 0, 0, 0, 0, 0, 0, 0, 0, 1, 0, 0, ...</td>\n",
       "    </tr>\n",
       "    <tr>\n",
       "      <th>3</th>\n",
       "      <td>c++</td>\n",
       "      <td>I am working on a collection of classes used f...</td>\n",
       "      <td>Should I use nested classes in this case?</td>\n",
       "      <td>[0, 0, 0, 0, 0, 0, 0, 0, 0, 0, 0, 0, 0, 1, 0, ...</td>\n",
       "    </tr>\n",
       "    <tr>\n",
       "      <th>4</th>\n",
       "      <td>.net,web-services</td>\n",
       "      <td>I've been writing a few web services for a .ne...</td>\n",
       "      <td>Homegrown consumption of web services</td>\n",
       "      <td>[0, 1, 0, 0, 0, 0, 0, 0, 0, 0, 0, 0, 0, 0, 0, ...</td>\n",
       "    </tr>\n",
       "    <tr>\n",
       "      <th>...</th>\n",
       "      <td>...</td>\n",
       "      <td>...</td>\n",
       "      <td>...</td>\n",
       "      <td>...</td>\n",
       "    </tr>\n",
       "    <tr>\n",
       "      <th>965707</th>\n",
       "      <td>javascript</td>\n",
       "      <td>I'm trying to detect the \"flash out of date\" e...</td>\n",
       "      <td>YouTube iFrame API: no ready call, no error call</td>\n",
       "      <td>[0, 0, 0, 0, 0, 0, 0, 0, 0, 0, 0, 0, 0, 0, 0, ...</td>\n",
       "    </tr>\n",
       "    <tr>\n",
       "      <th>965708</th>\n",
       "      <td>python,bash</td>\n",
       "      <td>I need to extend a shell script (bash). As I a...</td>\n",
       "      <td>How to execute multiline python code from a ba...</td>\n",
       "      <td>[0, 0, 0, 0, 0, 0, 0, 0, 0, 0, 1, 0, 0, 0, 0, ...</td>\n",
       "    </tr>\n",
       "    <tr>\n",
       "      <th>965709</th>\n",
       "      <td>php,.htaccess</td>\n",
       "      <td>I am building a custom MVC project and I have ...</td>\n",
       "      <td>URL routing in PHP (MVC)</td>\n",
       "      <td>[1, 0, 0, 0, 0, 0, 0, 0, 0, 0, 0, 0, 0, 0, 0, ...</td>\n",
       "    </tr>\n",
       "    <tr>\n",
       "      <th>965710</th>\n",
       "      <td>android</td>\n",
       "      <td>Under minifyEnabled I changed from false to tr...</td>\n",
       "      <td>Obfuscating code in android studio</td>\n",
       "      <td>[0, 0, 0, 0, 1, 0, 0, 0, 0, 0, 0, 0, 0, 0, 0, ...</td>\n",
       "    </tr>\n",
       "    <tr>\n",
       "      <th>965711</th>\n",
       "      <td>javascript</td>\n",
       "      <td>I have input which I use to filter my array of...</td>\n",
       "      <td>How to fire function after v-model change?</td>\n",
       "      <td>[0, 0, 0, 0, 0, 0, 0, 0, 0, 0, 0, 0, 0, 0, 0, ...</td>\n",
       "    </tr>\n",
       "  </tbody>\n",
       "</table>\n",
       "<p>965712 rows × 4 columns</p>\n",
       "</div>"
      ],
      "text/plain": [
       "                      Tag                                        BodyCleaned  \\\n",
       "0             sql,asp.net  Has anyone got experience creating SQL-based A...   \n",
       "1               algorithm  This is something I've pseudo-solved many time...   \n",
       "2                 c#,.net  I have a little game written in C#. It uses a ...   \n",
       "3                     c++  I am working on a collection of classes used f...   \n",
       "4       .net,web-services  I've been writing a few web services for a .ne...   \n",
       "...                   ...                                                ...   \n",
       "965707         javascript  I'm trying to detect the \"flash out of date\" e...   \n",
       "965708        python,bash  I need to extend a shell script (bash). As I a...   \n",
       "965709      php,.htaccess  I am building a custom MVC project and I have ...   \n",
       "965710            android  Under minifyEnabled I changed from false to tr...   \n",
       "965711         javascript  I have input which I use to filter my array of...   \n",
       "\n",
       "                                             TitleCleaned  \\\n",
       "0                                       ASP.NET Site Maps   \n",
       "1                      Function for creating color wheels   \n",
       "2       Adding scripting functionality to .NET applica...   \n",
       "3               Should I use nested classes in this case?   \n",
       "4                   Homegrown consumption of web services   \n",
       "...                                                   ...   \n",
       "965707   YouTube iFrame API: no ready call, no error call   \n",
       "965708  How to execute multiline python code from a ba...   \n",
       "965709                           URL routing in PHP (MVC)   \n",
       "965710                 Obfuscating code in android studio   \n",
       "965711         How to fire function after v-model change?   \n",
       "\n",
       "                                                   labels  \n",
       "0       [0, 0, 0, 0, 0, 0, 0, 0, 1, 0, 0, 0, 0, 0, 0, ...  \n",
       "1       [0, 0, 0, 1, 0, 0, 0, 0, 0, 0, 0, 0, 0, 0, 0, ...  \n",
       "2       [0, 1, 0, 0, 0, 0, 0, 0, 0, 0, 0, 0, 1, 0, 0, ...  \n",
       "3       [0, 0, 0, 0, 0, 0, 0, 0, 0, 0, 0, 0, 0, 1, 0, ...  \n",
       "4       [0, 1, 0, 0, 0, 0, 0, 0, 0, 0, 0, 0, 0, 0, 0, ...  \n",
       "...                                                   ...  \n",
       "965707  [0, 0, 0, 0, 0, 0, 0, 0, 0, 0, 0, 0, 0, 0, 0, ...  \n",
       "965708  [0, 0, 0, 0, 0, 0, 0, 0, 0, 0, 1, 0, 0, 0, 0, ...  \n",
       "965709  [1, 0, 0, 0, 0, 0, 0, 0, 0, 0, 0, 0, 0, 0, 0, ...  \n",
       "965710  [0, 0, 0, 0, 1, 0, 0, 0, 0, 0, 0, 0, 0, 0, 0, ...  \n",
       "965711  [0, 0, 0, 0, 0, 0, 0, 0, 0, 0, 0, 0, 0, 0, 0, ...  \n",
       "\n",
       "[965712 rows x 4 columns]"
      ]
     },
     "execution_count": 6,
     "metadata": {},
     "output_type": "execute_result"
    }
   ],
   "source": [
    "tags = df_full[\"Tag\"].apply(lambda x: (x.split(',')))\n",
    "binarizer =  MultiLabelBinarizer()\n",
    "labels = binarizer.fit_transform(tags)\n",
    "df_full[\"labels\"] = list(labels)\n",
    "df_full"
   ]
  },
  {
   "cell_type": "markdown",
   "id": "1296f78a-3f5b-4ab4-a36a-6bd7571fcb38",
   "metadata": {},
   "source": [
    "For the baseline model, which will use a basic encoding schema like TF-IDF vectorization for text body and title, further cleaning needed like:\n",
    "- Text case lowering\n",
    "- Text processing like stopword removal, lemmanization, punctuation removal while keeping target label words intact\n",
    "\n",
    "Those steps are fundamental for baseline model because model quality heavily depending on the text pre-processing quality"
   ]
  },
  {
   "cell_type": "code",
   "execution_count": 7,
   "id": "3c486c1d-5549-4018-abad-8320ca11e75a",
   "metadata": {},
   "outputs": [
    {
     "name": "stdout",
     "output_type": "stream",
     "text": [
      "Collecting en-core-web-lg==3.4.1\n",
      "  Using cached https://github.com/explosion/spacy-models/releases/download/en_core_web_lg-3.4.1/en_core_web_lg-3.4.1-py3-none-any.whl (587.7 MB)\n",
      "Requirement already satisfied: spacy<3.5.0,>=3.4.0 in /home/baran/.conda/envs/stackoverflow/lib/python3.10/site-packages (from en-core-web-lg==3.4.1) (3.4.4)\n",
      "Requirement already satisfied: wasabi<1.1.0,>=0.9.1 in /home/baran/.conda/envs/stackoverflow/lib/python3.10/site-packages (from spacy<3.5.0,>=3.4.0->en-core-web-lg==3.4.1) (0.9.1)\n",
      "Requirement already satisfied: smart-open<7.0.0,>=5.2.1 in /home/baran/.conda/envs/stackoverflow/lib/python3.10/site-packages (from spacy<3.5.0,>=3.4.0->en-core-web-lg==3.4.1) (5.2.1)\n",
      "Requirement already satisfied: requests<3.0.0,>=2.13.0 in /home/baran/.conda/envs/stackoverflow/lib/python3.10/site-packages (from spacy<3.5.0,>=3.4.0->en-core-web-lg==3.4.1) (2.29.0)\n",
      "Requirement already satisfied: murmurhash<1.1.0,>=0.28.0 in /home/baran/.conda/envs/stackoverflow/lib/python3.10/site-packages (from spacy<3.5.0,>=3.4.0->en-core-web-lg==3.4.1) (1.0.7)\n",
      "Requirement already satisfied: spacy-legacy<3.1.0,>=3.0.10 in /home/baran/.conda/envs/stackoverflow/lib/python3.10/site-packages (from spacy<3.5.0,>=3.4.0->en-core-web-lg==3.4.1) (3.0.12)\n",
      "Requirement already satisfied: cymem<2.1.0,>=2.0.2 in /home/baran/.conda/envs/stackoverflow/lib/python3.10/site-packages (from spacy<3.5.0,>=3.4.0->en-core-web-lg==3.4.1) (2.0.6)\n",
      "Requirement already satisfied: setuptools in /home/baran/.conda/envs/stackoverflow/lib/python3.10/site-packages (from spacy<3.5.0,>=3.4.0->en-core-web-lg==3.4.1) (66.0.0)\n",
      "Requirement already satisfied: thinc<8.2.0,>=8.1.0 in /home/baran/.conda/envs/stackoverflow/lib/python3.10/site-packages (from spacy<3.5.0,>=3.4.0->en-core-web-lg==3.4.1) (8.1.10)\n",
      "Requirement already satisfied: numpy>=1.15.0 in /home/baran/.conda/envs/stackoverflow/lib/python3.10/site-packages (from spacy<3.5.0,>=3.4.0->en-core-web-lg==3.4.1) (1.24.3)\n",
      "Requirement already satisfied: typer<0.8.0,>=0.3.0 in /home/baran/.conda/envs/stackoverflow/lib/python3.10/site-packages (from spacy<3.5.0,>=3.4.0->en-core-web-lg==3.4.1) (0.4.1)\n",
      "Requirement already satisfied: jinja2 in /home/baran/.conda/envs/stackoverflow/lib/python3.10/site-packages (from spacy<3.5.0,>=3.4.0->en-core-web-lg==3.4.1) (3.1.2)\n",
      "Requirement already satisfied: packaging>=20.0 in /home/baran/.conda/envs/stackoverflow/lib/python3.10/site-packages (from spacy<3.5.0,>=3.4.0->en-core-web-lg==3.4.1) (23.0)\n",
      "Requirement already satisfied: pathy>=0.3.5 in /home/baran/.conda/envs/stackoverflow/lib/python3.10/site-packages (from spacy<3.5.0,>=3.4.0->en-core-web-lg==3.4.1) (0.10.1)\n",
      "Requirement already satisfied: catalogue<2.1.0,>=2.0.6 in /home/baran/.conda/envs/stackoverflow/lib/python3.10/site-packages (from spacy<3.5.0,>=3.4.0->en-core-web-lg==3.4.1) (2.0.7)\n",
      "Requirement already satisfied: pydantic!=1.8,!=1.8.1,<1.11.0,>=1.7.4 in /home/baran/.conda/envs/stackoverflow/lib/python3.10/site-packages (from spacy<3.5.0,>=3.4.0->en-core-web-lg==3.4.1) (1.10.2)\n",
      "Requirement already satisfied: spacy-loggers<2.0.0,>=1.0.0 in /home/baran/.conda/envs/stackoverflow/lib/python3.10/site-packages (from spacy<3.5.0,>=3.4.0->en-core-web-lg==3.4.1) (1.0.4)\n",
      "Requirement already satisfied: tqdm<5.0.0,>=4.38.0 in /home/baran/.conda/envs/stackoverflow/lib/python3.10/site-packages (from spacy<3.5.0,>=3.4.0->en-core-web-lg==3.4.1) (4.65.0)\n",
      "Requirement already satisfied: preshed<3.1.0,>=3.0.2 in /home/baran/.conda/envs/stackoverflow/lib/python3.10/site-packages (from spacy<3.5.0,>=3.4.0->en-core-web-lg==3.4.1) (3.0.6)\n",
      "Requirement already satisfied: srsly<3.0.0,>=2.4.3 in /home/baran/.conda/envs/stackoverflow/lib/python3.10/site-packages (from spacy<3.5.0,>=3.4.0->en-core-web-lg==3.4.1) (2.4.6)\n",
      "Requirement already satisfied: langcodes<4.0.0,>=3.2.0 in /home/baran/.conda/envs/stackoverflow/lib/python3.10/site-packages (from spacy<3.5.0,>=3.4.0->en-core-web-lg==3.4.1) (3.3.0)\n",
      "Requirement already satisfied: typing-extensions>=4.1.0 in /home/baran/.conda/envs/stackoverflow/lib/python3.10/site-packages (from pydantic!=1.8,!=1.8.1,<1.11.0,>=1.7.4->spacy<3.5.0,>=3.4.0->en-core-web-lg==3.4.1) (4.5.0)\n",
      "Requirement already satisfied: certifi>=2017.4.17 in /home/baran/.conda/envs/stackoverflow/lib/python3.10/site-packages (from requests<3.0.0,>=2.13.0->spacy<3.5.0,>=3.4.0->en-core-web-lg==3.4.1) (2023.5.7)\n",
      "Requirement already satisfied: idna<4,>=2.5 in /home/baran/.conda/envs/stackoverflow/lib/python3.10/site-packages (from requests<3.0.0,>=2.13.0->spacy<3.5.0,>=3.4.0->en-core-web-lg==3.4.1) (3.4)\n",
      "Requirement already satisfied: urllib3<1.27,>=1.21.1 in /home/baran/.conda/envs/stackoverflow/lib/python3.10/site-packages (from requests<3.0.0,>=2.13.0->spacy<3.5.0,>=3.4.0->en-core-web-lg==3.4.1) (1.26.15)\n",
      "Requirement already satisfied: charset-normalizer<4,>=2 in /home/baran/.conda/envs/stackoverflow/lib/python3.10/site-packages (from requests<3.0.0,>=2.13.0->spacy<3.5.0,>=3.4.0->en-core-web-lg==3.4.1) (2.0.4)\n",
      "Requirement already satisfied: blis<0.8.0,>=0.7.8 in /home/baran/.conda/envs/stackoverflow/lib/python3.10/site-packages (from thinc<8.2.0,>=8.1.0->spacy<3.5.0,>=3.4.0->en-core-web-lg==3.4.1) (0.7.9)\n",
      "Requirement already satisfied: confection<1.0.0,>=0.0.1 in /home/baran/.conda/envs/stackoverflow/lib/python3.10/site-packages (from thinc<8.2.0,>=8.1.0->spacy<3.5.0,>=3.4.0->en-core-web-lg==3.4.1) (0.0.4)\n",
      "Requirement already satisfied: click<9.0.0,>=7.1.1 in /home/baran/.conda/envs/stackoverflow/lib/python3.10/site-packages (from typer<0.8.0,>=0.3.0->spacy<3.5.0,>=3.4.0->en-core-web-lg==3.4.1) (8.0.4)\n",
      "Requirement already satisfied: MarkupSafe>=2.0 in /home/baran/.conda/envs/stackoverflow/lib/python3.10/site-packages (from jinja2->spacy<3.5.0,>=3.4.0->en-core-web-lg==3.4.1) (2.1.1)\n",
      "\u001b[38;5;2m✔ Download and installation successful\u001b[0m\n",
      "You can now load the package via spacy.load('en_core_web_lg')\n"
     ]
    }
   ],
   "source": [
    "!python -m spacy download en_core_web_lg"
   ]
  },
  {
   "cell_type": "code",
   "execution_count": 8,
   "id": "01905714-d13f-4e60-8757-b111b808599a",
   "metadata": {},
   "outputs": [
    {
     "data": {
      "text/plain": [
       "['ner', 'parser', 'tok2vec']"
      ]
     },
     "execution_count": 8,
     "metadata": {},
     "output_type": "execute_result"
    }
   ],
   "source": [
    "nlp = spacy.load(\"en_core_web_lg\")\n",
    "\n",
    "# configure pipeline\n",
    "nlp.select_pipes(disable=['ner', 'parser', 'tok2vec'])"
   ]
  },
  {
   "cell_type": "code",
   "execution_count": 9,
   "id": "2393ff8f-3bc7-4d91-bebf-d8daad614a15",
   "metadata": {},
   "outputs": [
    {
     "data": {
      "application/vnd.jupyter.widget-view+json": {
       "model_id": "f06e93a2553c4eb4b6addaef98e2c5b4",
       "version_major": 2,
       "version_minor": 0
      },
      "text/plain": [
       "VBox(children=(HBox(children=(IntProgress(value=0, description='0.00%', max=60357), Label(value='0 / 60357')))…"
      ]
     },
     "metadata": {},
     "output_type": "display_data"
    },
    {
     "data": {
      "application/vnd.jupyter.widget-view+json": {
       "model_id": "2147413ce4254ea2948bae964cc11d78",
       "version_major": 2,
       "version_minor": 0
      },
      "text/plain": [
       "VBox(children=(HBox(children=(IntProgress(value=0, description='0.00%', max=60357), Label(value='0 / 60357')))…"
      ]
     },
     "metadata": {},
     "output_type": "display_data"
    }
   ],
   "source": [
    "df_full['BodyCleanedPost'] = df_full['BodyCleaned'].parallel_apply(lambda x: clean_text(x))\n",
    "df_full['TitleCleanedPost'] = df_full['TitleCleaned'].parallel_apply(lambda x: clean_text(x)) "
   ]
  },
  {
   "cell_type": "code",
   "execution_count": 13,
   "id": "53e6ac47-7c0f-472e-b552-d69897c2c106",
   "metadata": {},
   "outputs": [
    {
     "name": "stdout",
     "output_type": "stream",
     "text": [
      "*******Raw text: BodyCleaned*******\n",
      "I'm writing a custom reactor for twisted and it needs some cleaning to do when it has to stop.\n",
      "I tried overriding the stop method like this:\n",
      "def stop(self):\n",
      "    posixbase.PosixReactorBase.stop(self)\n",
      "    #cleanup code here\n",
      "\n",
      "It does, however, seem to not always be called. When I run trial like this python -m cProfile /usr/bin/trial -r custom tests/ | grep \"stop\" the only stop methods that are called are:\n",
      "    2    0.000    0.000    0.000    0.000 abstract.py:397(stopReading)\n",
      "    1    0.000    0.000    0.000    0.000 abstract.py:405(stopWriting)\n",
      "    1    0.000    0.000    0.000    0.000 log.py:691(stop)\n",
      "    1    0.000    0.000    0.000    0.000 protocol.py:678(stopProtocol)\n",
      "    3    0.000    0.000    0.000    0.000 reporter.py:97(stopTest)\n",
      "    3    0.000    0.000    0.000    0.000 result.py:79(stopTest)\n",
      "    1    0.000    0.000    0.000    0.000 udp.py:218(stopListening)\n",
      "*******Cleaned text:BodyCleanedPost *******\n",
      "writing custom reactor twisted needs cleaning stop  tried overriding stop method like  def stop(self  posixbase posixreactorbase.stop(self  cleanup code  called run trial like python -m cprofile /usr bin trial -r custom tests/ | grep stop stop methods called   0.000  0.000  0.000  0.000 abstract.py:397(stopreading   0.000  0.000  0.000  0.000 abstract.py:405(stopwriting   0.000  0.000  0.000  0.000 log.py:691(stop   0.000  0.000  0.000  0.000 protocol.py:678(stopprotocol   0.000  0.000  0.000  0.000 reporter.py:97(stoptest   0.000  0.000  0.000  0.000 result.py:79(stoptest   0.000  0.000  0.000  0.000 udp.py:218(stoplistening\n",
      "##########\n",
      "\n",
      "*******Raw text: BodyCleaned*******\n",
      "Quoting from one of the unix programming books,\n",
      "\n",
      "When a C program is executed by the\n",
      "  kernelby, one of the exec functions\n",
      "  calls special start-up routine. This\n",
      "  function is called before the main\n",
      "  function is called. The executable\n",
      "  program file specifies this routine as\n",
      "  the starting address for the program;\n",
      "  this is set up by the link editor when\n",
      "  it is invoked by the C compiler. This\n",
      "  start-up routine takes values from the\n",
      "  kernel the command-line arguments and\n",
      "  the environment and sets things up so\n",
      "  that the main function is called as\n",
      "  shown earlier.\n",
      "\n",
      "Why do we a need a middle man start-up routine. The exec function could have straightway called the main function and the kernel could have directly passed the command line arguments and environment to the main function. Why do we need the start-up routine in between?\n",
      "*******Cleaned text:BodyCleanedPost *******\n",
      "quoting unix programming books  c program executed  kernelby exec functions  calls special start routine  function called main  function called executable  program file specifies routine  starting address program  set link editor  invoked c compiler  start routine takes values  kernel command line arguments  environment sets things  main function called  shown earlier  need middle man start routine exec function straightway called main function kernel directly passed command line arguments environment main function need start routine\n",
      "##########\n",
      "\n",
      "*******Raw text: BodyCleaned*******\n",
      "I have a SilverStripe site with some code to display a search form.  The for allows you to search for something based on 3 things.  Problem is, I'm not sure how to get the results to display correctly on a separate page.\n",
      "My code:\n",
      "class InstitutionSearchPage extends Page {  \n",
      "}\n",
      "\n",
      "class InstitutionSearchPage_Controller extends Page_Controller {\n",
      "\n",
      "    private static $allowed_actions = array(\n",
      "        'Search'\n",
      "    );\n",
      "\n",
      "    public function Form() {\n",
      "        $fields = new FieldList(array(\n",
      "            DropdownField::create('DegreeType', 'Degree', QualificationType::get()->filter('ParentID', 0)->map()),\n",
      "            DropdownField::create('Course', 'Course', Qualification::get()->map()),\n",
      "            DropdownField::create('City', 'City', City::get()->map()),\n",
      "        ));\n",
      "        $actions = new FieldList(array(\n",
      "            FormAction::create('Search')->setTitle('Find a College')\n",
      "        ));\n",
      "        $validator = ZenValidator::create();\n",
      "        $validator->addRequiredFields(array(\n",
      "            'DegreeType' => 'Please select a Degree',\n",
      "            'Course' => 'Please select a course',\n",
      "            'City' => 'Please select a city',\n",
      "        ));\n",
      "        $form = new Form($this, 'Search', $fields, $actions, $validator);\n",
      "        $form->setLegend('Criteria')->addExtraClass('form-horizontal')->setAttribute('data-toggle', 'validator');\n",
      "\n",
      "        // Load the form with previously sent data\n",
      "        $form->loadDataFrom($this->request->postVars());\n",
      "        return $form;\n",
      "    }\n",
      "\n",
      "    public function Search() {\n",
      "        return array('Content' => print_r($this->getRequest()->postVars(), true));\n",
      "    }\n",
      "}\n",
      "\n",
      "It seems to be displaying results on the same page but gives me a bunch of weird data. For example, I got this when I tested the form: Array ( [DegreeType] => 53 [Course] => 1 [City] => 1 [SecurityID] => 02718d0283e27eeb539eff19616e0b23eadd6b94 [action_Search] => Find a College )\n",
      "The result is supposed to be an organized list of colleges (along with other data).\n",
      "*******Cleaned text:BodyCleanedPost *******\n",
      "silverstripe site code display search form  allows search based things  problem sure results display correctly separate page  code  class institutionsearchpage extends page   class institutionsearchpage_controller extends page_controller  private static $ allowed_actions = array  search   public function form  $ fields = new fieldlist(array  dropdownfield::create('degreetype degree qualificationtype::get()->filter('parentid 0)->map  dropdownfield::create('course course qualification::get()->map  dropdownfield::create('city city city::get()->map   $ actions = new fieldlist(array  formaction::create('search')->settitle('find college   $ validator = zenvalidator::create  $ validator->addrequiredfields(array  degreetype = > select degree  course = > select course  city = > select city   $ form = new form($this search $ fields $ actions $ validator  $ form->setlegend('criteria')->addextraclass('form horizontal')->setattribute('data toggle validator  load form previously sent data  $ form->loaddatafrom($this->request->postvars  return $ form   public function search  return array('content = > print_r($this->getrequest()->postvars true    displaying results page gives bunch weird data example got tested form array degreetype = > course = > city = > securityid = > 02718d0283e27eeb539eff19616e0b23eadd6b94 action_search = > find college  result supposed organized list colleges data\n",
      "##########\n",
      "\n"
     ]
    }
   ],
   "source": [
    "utils.compare_body(df_full, before_col=\"BodyCleaned\", after_col=\"BodyCleanedPost\")"
   ]
  },
  {
   "cell_type": "code",
   "execution_count": 14,
   "id": "8ef741f4-8af1-4536-a366-a72c906ff0d6",
   "metadata": {},
   "outputs": [
    {
     "name": "stdout",
     "output_type": "stream",
     "text": [
      "*******Raw text: TitleCleaned*******\n",
      "AngularJS nested ng-repeat onclick\n",
      "*******Cleaned text:TitleCleanedPost *******\n",
      "angularjs nested ng repeat onclick\n",
      "##########\n",
      "\n",
      "*******Raw text: TitleCleaned*******\n",
      "Is there a better way of doing this in mysql? - update entire column with another select and group by\n",
      "*******Cleaned text:TitleCleanedPost *******\n",
      "better way mysql update entire column select group\n",
      "##########\n",
      "\n",
      "*******Raw text: TitleCleaned*******\n",
      "Android recieving classcastexception despite being in correct class\n",
      "*******Cleaned text:TitleCleanedPost *******\n",
      "android recieving classcastexception despite correct class\n",
      "##########\n",
      "\n"
     ]
    }
   ],
   "source": [
    "utils.compare_body(df_full, before_col=\"TitleCleaned\", after_col=\"TitleCleanedPost\")"
   ]
  },
  {
   "cell_type": "markdown",
   "id": "d6079179-98b2-4bc7-a02d-39ea9c89cdb4",
   "metadata": {},
   "source": [
    "## Baseline Model"
   ]
  },
  {
   "cell_type": "markdown",
   "id": "4ee00457-24d3-4bbc-98a2-7203131d2e22",
   "metadata": {},
   "source": [
    "For the baseline model, we will using TF-IDF vectorizer to embed text with different classifier. Lets first split the data to train/test before TF-IDF trasnformation to avoid leakage."
   ]
  },
  {
   "cell_type": "code",
   "execution_count": 15,
   "id": "55e93b88-e5b7-4f9c-826b-6364387f6d24",
   "metadata": {},
   "outputs": [],
   "source": [
    "x_train_title, x_test_title, y_train, y_test = train_test_split(df_full[\"TitleCleanedPost\"], df_full[\"labels\"], test_size=0.1, random_state = 0)\n",
    "x_train_body, x_test_body, y_train, y_test = train_test_split(df_full[\"BodyCleanedPost\"], df_full[\"labels\"], test_size=0.1, random_state = 0)"
   ]
  },
  {
   "cell_type": "code",
   "execution_count": 18,
   "id": "8198cdc5-dd71-49b0-b433-d8f30d1e0525",
   "metadata": {},
   "outputs": [],
   "source": [
    "vectorized_title_train = transform_tf_idf(x_train_title)\n",
    "vectorized_title_test = transform_tf_idf(x_test_title)\n",
    "\n",
    "vectorized_body_train = transform_tf_idf(x_train_body)\n",
    "vectorized_body_test = transform_tf_idf(x_test_body)"
   ]
  },
  {
   "cell_type": "markdown",
   "id": "dfd96986-b921-4a5c-b163-82353b8cd5ee",
   "metadata": {},
   "source": [
    "we can stack body and title tf-idf vectors to get a combined representation of both part."
   ]
  },
  {
   "cell_type": "code",
   "execution_count": 29,
   "id": "f69d5a10-5cad-439c-bcc7-ec6cede02f15",
   "metadata": {},
   "outputs": [],
   "source": [
    "vectorized_stacked_train = hstack([vectorized_title_train, vectorized_body_train])\n",
    "vectorized_stacked_test = hstack([vectorized_title_test, vectorized_body_test])\n",
    "y_train = np.stack(y_train.values)\n",
    "y_test = np.stack(y_test.values)"
   ]
  },
  {
   "cell_type": "code",
   "execution_count": 30,
   "id": "4e10230f-21cc-492e-8518-800079f56bfc",
   "metadata": {},
   "outputs": [
    {
     "data": {
      "text/plain": [
       "(869140, 2000)"
      ]
     },
     "execution_count": 30,
     "metadata": {},
     "output_type": "execute_result"
    }
   ],
   "source": [
    "vectorized_stacked_train.shape"
   ]
  },
  {
   "cell_type": "markdown",
   "id": "03771bf6-6a8b-4b5a-ac91-363c67679a3c",
   "metadata": {},
   "source": [
    "We can test different classifiers on top of our TF-IDF embeddings. For multi-label classifications, there are different paradigms to make a classifier to support multi-label, some of them:\n",
    "- OnevsRest (for multilabel problem, same with Binary Relevance): One classifier is fitted for each class to model the problem as binary classification problem. Disadvantage is that it assumes that the labels are mutually exclusive and could not get the interconnections between labels.\n",
    "- Classifier Chains: A stack of C binary classifiers (C is number of classes)trained sequentually with the output of previous classifier, disadvantage: quality depending on the order of labels, not suitable for large number of labels.\n",
    "- Label Powerset: Assing a class for each of label combination and use multi-class approach, disadvantage: with large label combinatorial space, model is underfitting and performace is poor.\n",
    "\n",
    "We can use the simplest and most popular approach: OnevsRest"
   ]
  },
  {
   "cell_type": "code",
   "execution_count": null,
   "id": "0edb58bd-e330-4abf-a1f6-b2ed30a6e30e",
   "metadata": {},
   "outputs": [
    {
     "name": "stderr",
     "output_type": "stream",
     "text": [
      " 50%|████████████████████████████████████████████████████████████████████████████████████▌                                                                                    | 2/4 [10:47<12:23, 371.83s/it]"
     ]
    }
   ],
   "source": [
    "scores = []\n",
    "models = [#OneVsRestClassifier(LogisticRegression(class_weight='balanced'), n_jobs=-1),\n",
    "          OneVsRestClassifier(SGDClassifier(class_weight='balanced', loss='modified_huber'), n_jobs=-1),\n",
    "          KNeighborsClassifier(n_jobs=-1),\n",
    "          #RandomForestClassifier(class_weight='balanced', n_jobs=-1),\n",
    "          OneVsRestClassifier(LGBMClassifier(is_unbalance=True), n_jobs=-1)\n",
    "         ]\n",
    "\n",
    "for model in tqdm(models):\n",
    "    score = train_test_model(model, vectorized_stacked_train, vectorized_stacked_test,  y_train, y_test)\n",
    "    scores.append(score)\n",
    "\n",
    "scores = pd.concat(scores)\n",
    "scores"
   ]
  },
  {
   "cell_type": "code",
   "execution_count": null,
   "id": "2e46478a-731a-435e-a304-ffea694ff698",
   "metadata": {},
   "outputs": [],
   "source": []
  }
 ],
 "metadata": {
  "kernelspec": {
   "display_name": "stackoverflow",
   "language": "python",
   "name": "stackoverflow"
  },
  "language_info": {
   "codemirror_mode": {
    "name": "ipython",
    "version": 3
   },
   "file_extension": ".py",
   "mimetype": "text/x-python",
   "name": "python",
   "nbconvert_exporter": "python",
   "pygments_lexer": "ipython3",
   "version": "3.10.11"
  }
 },
 "nbformat": 4,
 "nbformat_minor": 5
}
